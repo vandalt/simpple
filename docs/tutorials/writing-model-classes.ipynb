{
 "cells": [
  {
   "cell_type": "markdown",
   "id": "36f9c3c0",
   "metadata": {},
   "source": [
    "# Writing Model Classes\n",
    "\n",
    "In [Getting Started](./getting-started.ipynb) and [_Fitting a line to data_](./fitting-a-line.ipynb), we saw two examples of how `simpple` can be used to quickly build a model from a likelihood function and, optionally, a forward model.\n",
    "For more complex models, it may be preferable to write a custom class that can store additional information.\n",
    "\n",
    "In this tutorial, we will implement a flexible polynomial model with a custom class, to show a simple example of how this API can be used.\n",
    "\n",
    "Notice the following:\n",
    "\n",
    "- Only two methods are absolutely required: `_forward()` and `_log_likelihood()`. They must accept a dictionary of parameters as their first argument.\n",
    "- `__init__()` is where the model is built. It should accept a parameter dictionary or initialize it internally, and set the attribute `self.parameters`, or call `super().__init__()` to run the usual boilerplate for `simpple` models.\n",
    "- `__init__()` is also where you should run additional checks and create extra attributes, such as `order` in the example below.\n",
    "- Model attributes can be re-used in the forward model or the log-likelihood. This is powerful if you want to store data or have configurable parameters (such as `order` here)."
   ]
  },
  {
   "cell_type": "code",
   "execution_count": 1,
   "id": "bed9e4ac",
   "metadata": {},
   "outputs": [],
   "source": [
    "from simpple.model import ForwardModel\n",
    "import simpple.distributions as sdist\n",
    "import numpy as np\n",
    "\n",
    "\n",
    "class PolyModel(ForwardModel):\n",
    "    def __init__(self, parameters: dict[str, sdist.Distribution], order: int):\n",
    "        self.order = order\n",
    "        self.parameters = parameters\n",
    "        for i in range(self.order + 1):\n",
    "            k = \"a\" + str(i)\n",
    "            if k not in self.parameters:\n",
    "                raise KeyError(\n",
    "                    f\"Parameters should have keys from a0 to a{self.order} for polynomial of order {self.order}. Key {k} not found.\"\n",
    "                )\n",
    "\n",
    "    def _forward(self, p, x):\n",
    "        parr = np.array([p[f\"a{i}\"] for i in range(self.order + 1)])\n",
    "        return np.vander(x, self.order + 1, increasing=True) @ parr\n",
    "\n",
    "    def _log_likelihood(self, p, x, y, yerr):\n",
    "        ymod = self.forward(p, x)\n",
    "        var = yerr**2 + p[\"sigma\"] ** 2\n",
    "        return -0.5 * np.sum(np.log(2 * np.pi * var) + (y - ymod) ** 2 / var)"
   ]
  },
  {
   "cell_type": "markdown",
   "id": "785726d0",
   "metadata": {},
   "source": [
    "Let us now test our class by creating a model and calling it."
   ]
  },
  {
   "cell_type": "code",
   "execution_count": 2,
   "id": "ab010470",
   "metadata": {},
   "outputs": [],
   "source": [
    "parameters = {\n",
    "    \"a0\": sdist.Uniform(-10, 10),\n",
    "    \"a1\": sdist.Uniform(-10, 10),\n",
    "    \"a2\": sdist.Uniform(-10, 10),\n",
    "    \"sigma\": sdist.LogUniform(1e-5, 100),\n",
    "}\n",
    "model = PolyModel(parameters, 2)\n",
    "test_p = [0.0, 1.0, 2.0, 0.0]\n",
    "test_x = np.array([1, 2, 3, 4])\n",
    "test_y = model.forward(test_p, test_x)"
   ]
  },
  {
   "cell_type": "markdown",
   "id": "82af2ade",
   "metadata": {},
   "source": [
    "And let us double check the implementation with Numpy."
   ]
  },
  {
   "cell_type": "code",
   "execution_count": 3,
   "id": "6d3c5e71",
   "metadata": {},
   "outputs": [],
   "source": [
    "np_y = np.polynomial.Polynomial(test_p)(test_x)\n",
    "assert np.all(test_y == np_y)"
   ]
  },
  {
   "cell_type": "markdown",
   "id": "e3ce85a4",
   "metadata": {},
   "source": [
    "That's it! We could then re-use this model (with order 1) as a drop-in replacement in the [_Fitting a line to data_](./fitting-a-line.ipynb) notebook."
   ]
  }
 ],
 "metadata": {
  "kernelspec": {
   "display_name": "simpple",
   "language": "python",
   "name": "simpple"
  },
  "language_info": {
   "codemirror_mode": {
    "name": "ipython",
    "version": 3
   },
   "file_extension": ".py",
   "mimetype": "text/x-python",
   "name": "python",
   "nbconvert_exporter": "python",
   "pygments_lexer": "ipython3",
   "version": "3.13.5"
  }
 },
 "nbformat": 4,
 "nbformat_minor": 5
}
